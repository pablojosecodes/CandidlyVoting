{
 "cells": [
  {
   "cell_type": "code",
   "execution_count": 15,
   "id": "0693d81d",
   "metadata": {},
   "outputs": [
    {
     "data": {
      "text/plain": [
       "['scott_psych.json',\n",
       " 'yvette_election.m4a',\n",
       " '.DS_Store',\n",
       " 'Speeches-Copy1.ipynb',\n",
       " 'Tweets.ipynb',\n",
       " 'scott_interview.m4a',\n",
       " 'psych.m4a',\n",
       " 'Speeches.ipynb',\n",
       " 'Yvette_Trans.json',\n",
       " 'Yvette_election.json',\n",
       " '.ipynb_checkpoints',\n",
       " 'psych_scott.json',\n",
       " 'testin.ipynb',\n",
       " 'scott_interview.json',\n",
       " 'scott.json',\n",
       " 'yvette_trans.m4a']"
      ]
     },
     "execution_count": 15,
     "metadata": {},
     "output_type": "execute_result"
    }
   ],
   "source": [
    "import os\n",
    "import json\n",
    "os.listdir(\".\")"
   ]
  },
  {
   "cell_type": "code",
   "execution_count": 25,
   "id": "34a6b59e",
   "metadata": {},
   "outputs": [],
   "source": [
    "interview = {}\n",
    "\n",
    "def get(file):\n",
    "    f = open(file)\n",
    "    return json.load(f)\n",
    "interview['Scott Interview'] = get(\"scott_interview.json\")\n",
    "interview['Scott Pysch'] = get(\"scott_psych.json\")\n",
    "interview['Yvette Trans'] = get(\"yvette_trans.json\")\n",
    "interview['Yvette Interview'] = get(\"yvette_interview.json\")"
   ]
  },
  {
   "cell_type": "code",
   "execution_count": 8,
   "id": "83477c43",
   "metadata": {},
   "outputs": [
    {
     "data": {
      "text/plain": [
       "dict_keys(['id', 'author', 'date', 'text', 'timestamp', 'embedding'])"
      ]
     },
     "execution_count": 8,
     "metadata": {},
     "output_type": "execute_result"
    }
   ],
   "source": [
    "l[0].keys()"
   ]
  },
  {
   "cell_type": "code",
   "execution_count": null,
   "id": "1abcfef0",
   "metadata": {},
   "outputs": [],
   "source": []
  }
 ],
 "metadata": {
  "kernelspec": {
   "display_name": "Python 3 (ipykernel)",
   "language": "python",
   "name": "python3"
  },
  "language_info": {
   "codemirror_mode": {
    "name": "ipython",
    "version": 3
   },
   "file_extension": ".py",
   "mimetype": "text/x-python",
   "name": "python",
   "nbconvert_exporter": "python",
   "pygments_lexer": "ipython3",
   "version": "3.11.7"
  }
 },
 "nbformat": 4,
 "nbformat_minor": 5
}
