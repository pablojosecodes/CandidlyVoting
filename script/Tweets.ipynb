{
 "cells": [
  {
   "cell_type": "code",
   "execution_count": 3,
   "id": "bd5a6c88",
   "metadata": {},
   "outputs": [],
   "source": [
    "from twikit import Client\n",
    "\n",
    "USERNAME = os.environ(\"TW_USER\")\n",
    "EMAIL = os.environ(\"TW_EMAIL\")\n",
    "PASSWORD = os.environ(\"TW_PASS\")\n",
    "\n",
    "# Initialize client\n",
    "client = Client('en-US')\n",
    "\n",
    "# Login to the service with provided user credentials\n",
    "client.login(\n",
    "    auth_info_1=USERNAME ,\n",
    "    auth_info_2=EMAIL,\n",
    "    password=PASSWORD\n",
    ")\n",
    "\n",
    "\n",
    "def tweet_child(tweet_id):\n",
    "    replies = client.get_tweet_by_id(tweet_id).replies\n",
    "    for reply in replies:\n",
    "        if reply.user.id==user_id:\n",
    "            return (reply, reply.id)\n",
    "    return None, None\n",
    "\n",
    "def tweet_id_to_thread(tweet_id):\n",
    "    # Tweet ID -> list of text\n",
    "    root = client.get_tweet_by_id(tweet_id)\n",
    "    text = [root.text]\n",
    "    child = None\n",
    "    while True:\n",
    "        child, tweet_id = tweet_child(tweet_id)\n",
    "        if (child is None):\n",
    "            break\n",
    "        else:\n",
    "            text.append(child.text)\n",
    "    return text\n",
    "\n",
    "def get_quote(tweet):\n",
    "    quoted_tweet = client.get_tweet_by_id(tweet.quote.id)\n",
    "    user_name = client.get_user_by_id(quoted_tweet.user.id).name\n",
    "    \n",
    "    return quoted_tweet.text[:300], user_name\n",
    "    "
   ]
  },
  {
   "cell_type": "code",
   "execution_count": 18,
   "id": "f7e9835d",
   "metadata": {},
   "outputs": [],
   "source": [
    "from openai import OpenAI\n",
    "import os\n",
    "\n",
    "op = OpenAI(api_key=os.environ[\"OPENAI\"])\n",
    "\n",
    "def emb(text):\n",
    "    response = op.embeddings.create(\n",
    "        input=text,\n",
    "        model=\"text-embedding-3-large\"\n",
    "    )\n",
    "\n",
    "    return response.data[0].embedding\n"
   ]
  },
  {
   "cell_type": "code",
   "execution_count": null,
   "id": "c87af211",
   "metadata": {},
   "outputs": [],
   "source": []
  },
  {
   "cell_type": "code",
   "execution_count": 8,
   "id": "fe87eb73",
   "metadata": {},
   "outputs": [
    {
     "data": {
      "text/plain": [
       "'26703365'"
      ]
     },
     "execution_count": 8,
     "metadata": {},
     "output_type": "execute_result"
    }
   ],
   "source": [
    "screen_name = 'Scott_Wiener'\n",
    "user = client.get_user_by_screen_name(screen_name)\n",
    "user_id = user.id\n",
    "name = \"Scott\"\n",
    "user_id"
   ]
  },
  {
   "cell_type": "code",
   "execution_count": null,
   "id": "a95d9032",
   "metadata": {},
   "outputs": [],
   "source": []
  },
  {
   "cell_type": "code",
   "execution_count": 9,
   "id": "161a96e8",
   "metadata": {},
   "outputs": [],
   "source": [
    "from tqdm import tqdm\n",
    "\n",
    "def tweets_to_values(tweets):\n",
    "    values = []\n",
    "\n",
    "    for tweet in tqdm(tweets):\n",
    "        try:\n",
    "            if (tweet.is_quote_status):\n",
    "                continue\n",
    "            \n",
    "            \n",
    "            dct = {}\n",
    "\n",
    "            text_thread = \"\\n\".join(tweet_id_to_thread(tweet.id))\n",
    "\n",
    "            date = tweet.created_at.split(\" \")\n",
    "            formatted_date =  f\"{date[0]}, {date[1]}, {date[2]}, {date[-1]}\"\n",
    "\n",
    "            dct['date']=formatted_date\n",
    "            dct['id']= tweet.id\n",
    "            dct['author']= name\n",
    "            try:\n",
    "                if (tweet.quote):\n",
    "                    text, person = get_quote(tweet)\n",
    "                    text_thread =f\"{name} said \\\"\\\"\\\"{text_thread}\\\"\\\"\\\" in response to {person} saying \\\"\\\"\\\"{text}\\\"\\\"\\\"\"\n",
    "                else:\n",
    "                    text_thread = f\"{name} said \\\"\\\"\\\"{text_thread}\\\"\\\"\\\"\"\n",
    "            \n",
    "            except Exception as e: \n",
    "                print(e, tweet.id, tweet.text)\n",
    "                contineu\n",
    "\n",
    "            dct['text'] = text_thread\n",
    "            dct['embedding']=emb(text_thread)\n",
    "            values.append(dct)\n",
    "        except Exception as e: \n",
    "            print(e, tweet.id, tweet.text)\n",
    "    \n",
    "    return values\n"
   ]
  },
  {
   "cell_type": "code",
   "execution_count": 10,
   "id": "67484052",
   "metadata": {},
   "outputs": [
    {
     "name": "stderr",
     "output_type": "stream",
     "text": [
      "100%|███████████████████████████████████████████| 17/17 [00:29<00:00,  1.76s/it]\n",
      "100%|███████████████████████████████████████████| 14/14 [01:09<00:00,  4.97s/it]\n",
      " 89%|██████████████████████████████████████▏    | 16/18 [00:26<00:01,  1.08it/s]"
     ]
    },
    {
     "name": "stdout",
     "output_type": "stream",
     "text": [
      "status: 429, message: \"Rate limit exceeded\n",
      "\" 1775213042630115580 RT @catrionastew: My grandmother, Barbara Cohen, was a children's book author in the 70s &amp; 80s. Our family recently found out that her one…\n",
      "status: 429, message: \"Rate limit exceeded\n",
      "\" 1775178963482268142 Anti-abortion advocates are working to force GOP elected officials to support restrictions on IVF.\n",
      "\n",
      "Florida’s GOP six-week abortion ban is going into effect.\n",
      "\n",
      "Let’s never forget what the GOP wants for this country:  A theocratic override of people’s personal autonomy &amp; dignity.\n"
     ]
    },
    {
     "name": "stderr",
     "output_type": "stream",
     "text": [
      "100%|███████████████████████████████████████████| 18/18 [00:27<00:00,  1.51s/it]"
     ]
    },
    {
     "name": "stdout",
     "output_type": "stream",
     "text": [
      "status: 429, message: \"Rate limit exceeded\n",
      "\" 1775177680771858651 RT @zamaan_qureshi: Lina Khan 🤝 Jon Stewart. Spot. On. https://t.co/DMkbcWMDOq\n",
      "status: 429, message: \"Rate limit exceeded\n",
      "\" 1775147217462190157 The bombing deaths of WCK workers in Gaza is yet another horrific reminder that the war must end.\n",
      "\n",
      "As I’ve said before, everyone is losing this war. So many Gazans are dying. Many Israelis still can’t go back to their homes. Hostages are still in Gaza tunnels.\n",
      "\n",
      "The war must end.\n"
     ]
    },
    {
     "name": "stderr",
     "output_type": "stream",
     "text": [
      "\n",
      " 17%|███████▎                                    | 2/12 [00:00<00:01,  8.77it/s]"
     ]
    },
    {
     "name": "stdout",
     "output_type": "stream",
     "text": [
      "status: 429, message: \"Rate limit exceeded\n",
      "\" 1774871246909661681 Yesterday was Easter. It was also Trans Day of Visibility &amp; the Hunky Jesus &amp; Foxy Mary contest in Dolores Park with @SFSisters.\n",
      "\n",
      "The more the merrier!\n",
      "\n",
      "Yet instead of just minding their own business, right wing extremists came unglued.\n",
      "\n",
      "These folks need to chill out. My take: https://t.co/EGXA96rSlU\n",
      "status: 429, message: \"Rate limit exceeded\n",
      "\" 1774800365621535081 Last week was a good one for solving our housing crisis:\n",
      "\n",
      "Appeals court ruled housing is a statewide issue requiring statewide solutions &amp; rejected a NIMBY lawsuit.\n",
      "\n",
      "NIMBY constitutional amendment failed to get enough signatures.\n",
      "\n",
      "Now let’s continue the work to create more homes.\n"
     ]
    },
    {
     "name": "stderr",
     "output_type": "stream",
     "text": [
      " 33%|██████████████▋                             | 4/12 [00:00<00:01,  7.42it/s]"
     ]
    },
    {
     "name": "stdout",
     "output_type": "stream",
     "text": [
      "status: 429, message: \"Rate limit exceeded\n",
      "\" 1774517152357478471 RT @jaketapper: Last night someone spray painted a swastika at the synagogue where i was bar mitzvahed, Temple Beth Hillel/Beth El in Wynne…\n",
      "status: 429, message: \"Rate limit exceeded\n",
      "\" 1774516892818198869 RT @DanteAtkins: Biden: \"trans people exist\"\n",
      "\n",
      "MAGA: \"we are absolutely going to have a Christian nationalist state and execute Democrats as…\n"
     ]
    },
    {
     "name": "stderr",
     "output_type": "stream",
     "text": [
      " 50%|██████████████████████                      | 6/12 [00:00<00:00,  8.38it/s]"
     ]
    },
    {
     "name": "stdout",
     "output_type": "stream",
     "text": [
      "status: 429, message: \"Rate limit exceeded\n",
      "\" 1774516507604893697 RT @JoeBiden: On Transgender Day of Visibility, we celebrate the joy, strength, and absolute courage of some of the bravest people I know.…\n",
      "status: 429, message: \"Rate limit exceeded\n",
      "\" 1774462178495746198 As Christians observe Easter, as Muslims observe Ramadan &amp; as Jews look toward Passover, we continue to pray for peace — in Gaza &amp; Israel, in Ukraine, in Sudan &amp; everywhere else experiencing the violence of war.\n",
      "\n",
      "We have it within our power as humanity to make peace a reality.\n"
     ]
    },
    {
     "name": "stderr",
     "output_type": "stream",
     "text": [
      " 75%|█████████████████████████████████           | 9/12 [00:01<00:00,  9.36it/s]"
     ]
    },
    {
     "name": "stdout",
     "output_type": "stream",
     "text": [
      "status: 429, message: \"Rate limit exceeded\n",
      "\" 1774264363861565690 Wow the sky over the Castro is shockingly beautiful tonight https://t.co/FwpJdXEGCA\n",
      "status: 429, message: \"Rate limit exceeded\n",
      "\" 1774117443063234912 RT @Sharkyl: 🧵Anatomy Of A Smear (sadly, a sequel)\n",
      "Some may recall my thread about an attempt to smear @Trevor4SF, which falsely labeled hi…\n"
     ]
    },
    {
     "name": "stderr",
     "output_type": "stream",
     "text": [
      "100%|███████████████████████████████████████████| 12/12 [00:01<00:00,  9.54it/s]"
     ]
    },
    {
     "name": "stdout",
     "output_type": "stream",
     "text": [
      "status: 429, message: \"Rate limit exceeded\n",
      "\" 1774098920907637023 Remember when measles was declared eliminated, due to an extremely effective vaccination public health strategy over decades?\n",
      "\n",
      "Then came the anti-vax propaganda campaign &amp; poof, measles is back. Just like that. https://t.co/1SRL26lr5g\n",
      "status: 429, message: \"Rate limit exceeded\n",
      "\" 1774088587459633379 It’s exciting when you author a law &amp; it rolls out strong.\n",
      "\n",
      "In 2022, I wrote SB 379 to require CA cities to use automated app-based permitting for solar/storage systems. Many CA cities took way too long to issue permits, causing delays &amp; cost spikes.\n",
      "\n",
      "SB 379 is changing that ⬇️🧵\n"
     ]
    },
    {
     "name": "stderr",
     "output_type": "stream",
     "text": [
      "\n",
      " 17%|███████▎                                    | 2/12 [00:00<00:01,  8.17it/s]"
     ]
    },
    {
     "name": "stdout",
     "output_type": "stream",
     "text": [
      "status: 429, message: \"Rate limit exceeded\n",
      "\" 1774088587459633379 It’s exciting when you author a law &amp; it rolls out strong.\n",
      "\n",
      "In 2022, I wrote SB 379 to require CA cities to use automated app-based permitting for solar/storage systems. Many CA cities took way too long to issue permits, causing delays &amp; cost spikes.\n",
      "\n",
      "SB 379 is changing that ⬇️🧵\n",
      "status: 429, message: \"Rate limit exceeded\n",
      "\" 1774031765964980709 RT @dlknowles: I'm in Michigan this weekend looking at the nascent Biden campaign.\n",
      "\n",
      "Story to come next week but one thing I am struck by al…\n"
     ]
    },
    {
     "name": "stderr",
     "output_type": "stream",
     "text": [
      " 33%|██████████████▋                             | 4/12 [00:00<00:01,  7.68it/s]"
     ]
    },
    {
     "name": "stdout",
     "output_type": "stream",
     "text": [
      "status: 429, message: \"Rate limit exceeded\n",
      "\" 1773723693300027737 In my years of authoring housing reform laws, I’ve heard every conceivable objection — or at least I thought I had — about why we can’t possibly allow more housing because [some self-absorbed tunnel-vision reason].\n",
      "\n",
      "It’s shameful the Navy helped kill this bipartisan housing bill. https://t.co/dyIScGYrsj\n",
      "status: 429, message: \"Rate limit exceeded\n",
      "\" 1773679783471136825 RT @RobBonta: BREAKING:\n",
      "\n",
      "Today the CA court of appeals ruled in our favor and reaffirmed what we have always maintained:  \n",
      "\n",
      "SB 10– providin…\n"
     ]
    },
    {
     "name": "stderr",
     "output_type": "stream",
     "text": [
      " 50%|██████████████████████                      | 6/12 [00:00<00:00,  8.53it/s]"
     ]
    },
    {
     "name": "stdout",
     "output_type": "stream",
     "text": [
      "status: 429, message: \"Rate limit exceeded\n",
      "\" 1773679135128207771 RT @aziz0nomics: One of the most annoying things to me as a Palestinian is how we have consistently been promised extreme and maximalist vi…\n",
      "status: 429, message: \"Rate limit exceeded\n",
      "\" 1773678252143370410 RT @DannySauter: I've been learning Cantonese for the last 5 years so that I can represent all District 3 voters including our vibrant AAPI…\n"
     ]
    },
    {
     "name": "stderr",
     "output_type": "stream",
     "text": [
      " 67%|█████████████████████████████▎              | 8/12 [00:01<00:00,  7.49it/s]"
     ]
    },
    {
     "name": "stdout",
     "output_type": "stream",
     "text": [
      "status: 429, message: \"Rate limit exceeded\n",
      "\" 1773675677943845276 RT @afalkhatib: The hostage families are still suffering terribly due to their loved ones' continued captivity &amp; the inability to bring the…\n",
      "status: 429, message: \"Rate limit exceeded\n",
      "\" 1773675370052555069 RT @the_transit_guy: The future I want: https://t.co/bPuVVsVfrB\n"
     ]
    },
    {
     "name": "stderr",
     "output_type": "stream",
     "text": [
      " 83%|███████████████████████████████████▊       | 10/12 [00:01<00:00,  8.14it/s]"
     ]
    },
    {
     "name": "stdout",
     "output_type": "stream",
     "text": [
      "status: 429, message: \"Rate limit exceeded\n",
      "\" 1773652357991014649 RT @jnewsgabe: NEW: Hate crimes against Jews in San Francisco increased 4X last year from 2022, making Jews the most targeted group in the…\n",
      "status: 429, message: \"Rate limit exceeded\n",
      "\" 1773451129839620462 Tragedies like this one are a policy choice. We know what we have to do to prevent traffic deaths. We just need the courage to move away from our addiction to cars.\n",
      "\n",
      "I have two bills (SB 960 &amp; 961) that would make roads safer and slash the 4,000 traffic deaths CA faces each year. https://t.co/QBUbv6p87u\n"
     ]
    },
    {
     "name": "stderr",
     "output_type": "stream",
     "text": [
      "100%|███████████████████████████████████████████| 12/12 [00:01<00:00,  7.44it/s]"
     ]
    },
    {
     "name": "stdout",
     "output_type": "stream",
     "text": [
      "status: 429, message: \"Rate limit exceeded\n",
      "\" 1773369255150465367 RT @afalkhatib: It's difficult to understate just how truly evil &amp; monstrous Hamas's leadership is. Within the past few days, the group's l…\n",
      "status: 429, message: \"Rate limit exceeded\n",
      "\" 1773349640865235121 Why do we fight so hard for infill housing, public transit &amp; walkable neighborhoods?\n",
      "\n",
      "Because infill housing + higher population density = lower carbon emissions &amp; lower energy usage\n",
      "\n",
      "People can walk, use transit &amp; drive shorter distances.\n",
      "\n",
      "It’s an essential climate strategy. 🧵 https://t.co/zyyqaDAdQt\n"
     ]
    },
    {
     "name": "stderr",
     "output_type": "stream",
     "text": [
      "\n",
      " 25%|███████████▎                                 | 2/8 [00:00<00:00,  6.48it/s]"
     ]
    },
    {
     "name": "stdout",
     "output_type": "stream",
     "text": [
      "status: 429, message: \"Rate limit exceeded\n",
      "\" 1773349640865235121 Why do we fight so hard for infill housing, public transit &amp; walkable neighborhoods?\n",
      "\n",
      "Because infill housing + higher population density = lower carbon emissions &amp; lower energy usage\n",
      "\n",
      "People can walk, use transit &amp; drive shorter distances.\n",
      "\n",
      "It’s an essential climate strategy. 🧵 https://t.co/zyyqaDAdQt\n",
      "status: 429, message: \"Rate limit exceeded\n",
      "\" 1773344213284872652 RT @GeorgistSteve: am I going insane or are left-NIMBYs currently defending the downzoning of waterfront property a mile from San Francisco…\n"
     ]
    },
    {
     "name": "stderr",
     "output_type": "stream",
     "text": [
      " 75%|█████████████████████████████████▊           | 6/8 [00:00<00:00, 13.52it/s]"
     ]
    },
    {
     "name": "stdout",
     "output_type": "stream",
     "text": [
      "status: 429, message: \"Rate limit exceeded\n",
      "\" 1773098408514859411 Reducing traffic deaths &amp; injuries isn’t rocket science:\n",
      "\n",
      "—Fewer cars w/ superb public transit\n",
      "\n",
      "—Smaller cars instead of endless monster vehicles\n",
      "\n",
      "—Ending obstruction of transit/bike/pedestrian improvements\n",
      "\n",
      "—Slowing traffic via technology &amp; enforcement\n",
      "\n",
      "We’re working on each: 🧵 https://t.co/NysHi6stSm\n",
      "status: 429, message: \"Rate limit exceeded\n",
      "\" 1773071166053257581 Hostility toward Jewish students on campus isn’t limited to public universities like UC &amp; CSU. Stanford isn’t immune. This new piece in @TheAtlantic is chilling. https://t.co/ULMqPHOnBr\n"
     ]
    },
    {
     "name": "stderr",
     "output_type": "stream",
     "text": [
      "100%|█████████████████████████████████████████████| 8/8 [00:00<00:00,  9.83it/s]"
     ]
    },
    {
     "name": "stdout",
     "output_type": "stream",
     "text": [
      "status: 429, message: \"Rate limit exceeded\n",
      "\" 1772990507003564454 Amid rampant rape denial conspiracy theories — “believe women except don’t believe Jewish women” — this brave Israeli woman has come forward to recount her rape by Hamas while held hostage. https://t.co/ZcOj99L4kP\n",
      "status: 429, message: \"Rate limit exceeded\n",
      "\" 1772746614433800336 Today’s anti-housing veto override by the Board of Supervisors is a black eye for San Francisco. @AaronPeskin’s ordinance is the latest move in his decades-long effort to obstruct new housing in our city. Extreme zoning restrictions like these are one cause of our housing crisis.\n"
     ]
    },
    {
     "name": "stderr",
     "output_type": "stream",
     "text": [
      "\n",
      " 25%|███████████                                 | 3/12 [00:00<00:00, 10.51it/s]"
     ]
    },
    {
     "name": "stdout",
     "output_type": "stream",
     "text": [
      "status: 429, message: \"Rate limit exceeded\n",
      "\" 1772746614433800336 Today’s anti-housing veto override by the Board of Supervisors is a black eye for San Francisco. @AaronPeskin’s ordinance is the latest move in his decades-long effort to obstruct new housing in our city. Extreme zoning restrictions like these are one cause of our housing crisis.\n",
      "status: 429, message: \"Rate limit exceeded\n",
      "\" 1772549254923309550 RT @JosephPolitano: Here's a wild stat (or brutal, if you're Californian)\n",
      "\n",
      "Last year, Austin MSA (population: 2.4M) permitted 21,300 units…\n"
     ]
    },
    {
     "name": "stderr",
     "output_type": "stream",
     "text": [
      "\r",
      " 42%|██████████████████▎                         | 5/12 [00:00<00:00, 13.27it/s]"
     ]
    },
    {
     "name": "stdout",
     "output_type": "stream",
     "text": [
      "status: 429, message: \"Rate limit exceeded\n",
      "\" 1772312583053197729 We’ve worked hard to reform SF’s catastrophic approach to housing — an approach that’s caused explosive housing costs.\n",
      "\n",
      "The Board of Supervisors will vote on whether to back-slide by overriding the Mayor’s veto of an anti-housing proposal.\n",
      "\n",
      "My piece on why it shouldn’t override: https://t.co/DtuQLsmi7c\n",
      "status: 429, message: \"Rate limit exceeded\n",
      "\" 1771954616101404791 This is destructive &amp; makes it even harder to move toward peace &amp; a 2-state solution.\n",
      "\n",
      "It’s another example of why Israel so desperately needs a government fully committed to a path to peaceful co-existence.\n",
      "\n",
      "In addition to the war ending, this settlement expansion must stop. https://t.co/M3fEzBpyPh\n"
     ]
    },
    {
     "name": "stderr",
     "output_type": "stream",
     "text": [
      " 75%|█████████████████████████████████           | 9/12 [00:00<00:00, 11.88it/s]"
     ]
    },
    {
     "name": "stdout",
     "output_type": "stream",
     "text": [
      "status: 429, message: \"Rate limit exceeded\n",
      "\" 1771949699227934826 RT @cyrusphall: I log out for the day, and checking back in I see there has been another serious car crash at the bus stop at Fulton &amp; Funs…\n",
      "status: 429, message: \"Rate limit exceeded\n",
      "\" 1771918935597760922 Today is Purim - when we celebrate Jewish resilience in the face of efforts to eradicate us.\n",
      "\n",
      "The story of the Jews is one of perseverance against the greatest of odds &amp; against extreme violence.\n",
      "\n",
      "We’re not going anywhere.\n",
      "\n",
      "Happy Purim! ✡️\n",
      "\n",
      "Enjoy some hamantaschen! https://t.co/rnTn4BqUci\n"
     ]
    },
    {
     "name": "stderr",
     "output_type": "stream",
     "text": [
      "\r",
      " 92%|███████████████████████████████████████▍   | 11/12 [00:01<00:00, 10.20it/s]"
     ]
    },
    {
     "name": "stdout",
     "output_type": "stream",
     "text": [
      "status: 429, message: \"Rate limit exceeded\n",
      "\" 1771552165657555401 Allowing religious institutions to convert land into affordable housing is a powerful strategy to fight our housing crisis.\n",
      "\n",
      "I wrote CA’s law (SB 4) to grant re-zoning &amp; permit approval for this kind of housing, opening up ~170K acres for affordable housing.\n",
      "\n",
      "It’s a game changer. https://t.co/5FbPSkEJ7l\n",
      "status: 429, message: \"Rate limit exceeded\n",
      "\" 1771341214840975624 RT @TheAtlantic: \"Americans have a long history of predicting the death of our major cities, and those cities have a long history of provin…\n"
     ]
    },
    {
     "name": "stderr",
     "output_type": "stream",
     "text": [
      "100%|███████████████████████████████████████████| 12/12 [00:01<00:00,  9.76it/s]\n"
     ]
    },
    {
     "name": "stdout",
     "output_type": "stream",
     "text": [
      "status: 429, message: \"Rate limit exceeded\n",
      "\" 1771334311557664965 RT @TheAtlantic: Anti-Semitism has crept back into the realm of the acceptable in American culture. Its resurgence on both the right and le…\n"
     ]
    },
    {
     "name": "stderr",
     "output_type": "stream",
     "text": [
      " 29%|████████████▌                               | 4/14 [00:00<00:00, 15.91it/s]"
     ]
    },
    {
     "name": "stdout",
     "output_type": "stream",
     "text": [
      "status: 429, message: \"Rate limit exceeded\n",
      "\" 1771184439541776559 The President has released a very solid national housing plan to increase the supply of housing. The housing shortage, while most acute in California, is national. It’s harming middle &amp; working class people, increasing homelessness &amp; harming the economy. Thank you, Mr. President. https://t.co/8G3hw50ZJ9\n",
      "status: 429, message: \"Rate limit exceeded\n",
      "\" 1770470215173984471 I introduced new housing legislation, w/ Attorney General @RobBonta, to create financial incentives for cities to follow state housing law.\n",
      "\n",
      "Under SB 1037, if a city violates housing law &amp; the AG sues &amp; wins, the city is liable for penalties dating to the start of the violation🧵\n"
     ]
    },
    {
     "name": "stderr",
     "output_type": "stream",
     "text": [
      "\r",
      " 43%|██████████████████▊                         | 6/14 [00:00<00:00, 11.85it/s]"
     ]
    },
    {
     "name": "stdout",
     "output_type": "stream",
     "text": [
      "status: 429, message: \"Rate limit exceeded\n",
      "\" 1770107966735397319 We’re again seeing the narrative of “good Jews” &amp; “bad Jews” — long used to demonize Jews.\n",
      "\n",
      "Trump said it again: Only Jews who vote for him are good Jews.\n",
      "\n",
      "We see it on the left: Only Jews w/ a certain position on the war or Israel’s existence are good Jews.\n",
      "\n",
      "It’s all antisemitic\n",
      "status: 429, message: \"Rate limit exceeded\n",
      "\" 1769798750162010194 RT @SFMTA_Muni: Happy #NationalTransitAppreciation Day! Today, we joined @Scott_Wiener,  @MTCBATA, @SFBART, @sfcta and local leaders to pro…\n",
      "status: 429, message: \"Rate limit exceeded\n",
      "\" 1769780298949230683 Today’s introduction of SB 1031 is the beginning of the process. We’ll work intensively with our entire Bay Area legislative delegation &amp; regional stakeholders — eg transit operators, cities/counties, labor, business &amp; advocates — to craft a measure with broad &amp; diverse support.\n",
      "status: 429, message: \"Rate limit exceeded\n",
      "\" 1769780292418699466 First, we’ll require regional action to integrate aspects of transit systems, such as:\n",
      "\n",
      "-Fares &amp; fare payment\n",
      "-Schedules &amp; transfers\n",
      "-Mapping &amp; wayfinding\n",
      "-Real-time transit information\n",
      "\n",
      "Funding can be conditioned on transit operators participating in this network integration.\n"
     ]
    },
    {
     "name": "stderr",
     "output_type": "stream",
     "text": [
      " 71%|██████████████████████████████▋            | 10/14 [00:01<00:00,  9.04it/s]"
     ]
    },
    {
     "name": "stdout",
     "output_type": "stream",
     "text": [
      "status: 429, message: \"Rate limit exceeded\n",
      "\" 1769780294981128371 To accomplish the above-described network integration, the measure will also create a regional transit network manager with the authority to deliver results. That’s the accountability voters want to see.\n",
      "status: 429, message: \"Rate limit exceeded\n",
      "\" 1769780289885044914 We know that Bay Area riders are also demanding improvements to our public transit systems. We’re not waiting for 2026 to get started on those reforms.\n",
      "\n",
      "The Connect Bay Area Act focuses on improving regional integration to provide riders a more seamless experience.\n"
     ]
    },
    {
     "name": "stderr",
     "output_type": "stream",
     "text": [
      " 86%|████████████████████████████████████▊      | 12/14 [00:01<00:00,  7.72it/s]"
     ]
    },
    {
     "name": "stdout",
     "output_type": "stream",
     "text": [
      "status: 429, message: \"Rate limit exceeded\n",
      "\" 1769780272193765556 Bay Area transit is at a crossroads. We need big changes for a vibrant future.\n",
      "\n",
      "Today, we’re announcing the Connect Bay Area Act (SB 1031) to authorize a 2026 ballot measure to fund, modernize &amp; integrate our transit systems.\n",
      "\n",
      "I’m joined by my legislative partner @aishabbwahab.🧵\n",
      "status: 429, message: \"Rate limit exceeded\n",
      "\" 1769780282243117452 The Connect Bay Area Act will permanently solve the transit fiscal cliff by authorizing a 2026 ballot measure to send at least $750 million each year to shore up &amp; improve transit service. Transit is essential to our economic recovery &amp; climate goals &amp; we must secure its future.\n"
     ]
    },
    {
     "name": "stderr",
     "output_type": "stream",
     "text": [
      "100%|███████████████████████████████████████████| 14/14 [00:01<00:00,  9.05it/s]"
     ]
    },
    {
     "name": "stdout",
     "output_type": "stream",
     "text": [
      "status: 429, message: \"Rate limit exceeded\n",
      "\" 1769780279932256658 For &gt;a year, I’ve been sounding the alarm on the transit fiscal cliff, an ongoing structural budget shortfall that threatens big cuts to public transit service.\n",
      "\n",
      "We delayed the fiscal cliff w/ state relief funds last year but expect service cuts in 2026 if nothing more is done.\n",
      "status: 429, message: \"Rate limit exceeded\n",
      "\" 1769780276358709528 Connect Bay Area Act will deliver a more robust/connected transportation system by:\n",
      "\n",
      "🚍Funding transportation w/ a 2026 ballot measure, including for transit &amp; road repair\n",
      "🚊Improving regional integration of transit systems\n",
      "🌁Evaluating possible consolidation of transit operators\n"
     ]
    },
    {
     "name": "stderr",
     "output_type": "stream",
     "text": [
      "\n",
      " 14%|██████▎                                     | 2/14 [00:00<00:01,  9.55it/s]"
     ]
    },
    {
     "name": "stdout",
     "output_type": "stream",
     "text": [
      "status: 429, message: \"Rate limit exceeded\n",
      "\" 1769780272193765556 Bay Area transit is at a crossroads. We need big changes for a vibrant future.\n",
      "\n",
      "Today, we’re announcing the Connect Bay Area Act (SB 1031) to authorize a 2026 ballot measure to fund, modernize &amp; integrate our transit systems.\n",
      "\n",
      "I’m joined by my legislative partner @aishabbwahab.🧵\n",
      "status: 429, message: \"Rate limit exceeded\n",
      "\" 1769453759321784521 RT @RabbiWolpe: \"A 2012 study by economists Nico Voigtländer and Hans-Joachim Voth found  that Germans from towns where Jews were blamed fo…\n"
     ]
    },
    {
     "name": "stderr",
     "output_type": "stream",
     "text": [
      " 29%|████████████▌                               | 4/14 [00:00<00:01,  9.30it/s]"
     ]
    },
    {
     "name": "stdout",
     "output_type": "stream",
     "text": [
      "status: 429, message: \"Rate limit exceeded\n",
      "\" 1769399676405780490 San Francisco’s downtown is going through a big transition. A combination of retail trends &amp; work patterns have changed everything.\n",
      "\n",
      "We can’t just try to go back to the past. We need to re-envision downtown. We’re working hard on legislation to give SF more ability to do so.🧵 https://t.co/MFXh2I1s4F\n",
      "status: 429, message: \"Rate limit exceeded\n",
      "\" 1769239147691339878 RT @DeathStarPR: Yes, the Emperor is a Dark Lord of the Sith, builds Death Stars to blow up planets, and killed all of the Jedi, but Yoda i…\n"
     ]
    },
    {
     "name": "stderr",
     "output_type": "stream",
     "text": [
      " 43%|██████████████████▊                         | 6/14 [00:00<00:00,  8.93it/s]"
     ]
    },
    {
     "name": "stdout",
     "output_type": "stream",
     "text": [
      "status: 429, message: \"Rate limit exceeded\n",
      "\" 1769169588443558283 RT @LondonBreed: Today there was a tragic collision in West Portal. Two lives were lost, including a child. Three more are in the hospital.…\n",
      "status: 429, message: \"Rate limit exceeded\n",
      "\" 1769134223422796118 RT @jnewsgabe: NEW: About two weeks after a mob shut down an Israel event at Berkeley and Jewish students had to be evacuated for their saf…\n"
     ]
    },
    {
     "name": "stderr",
     "output_type": "stream",
     "text": [
      " 57%|█████████████████████████▏                  | 8/14 [00:00<00:00,  6.93it/s]"
     ]
    },
    {
     "name": "stdout",
     "output_type": "stream",
     "text": [
      "status: 429, message: \"Rate limit exceeded\n",
      "\" 1769025540173050177 This is straight up Islamophobia. This nominee is highly qualified. Ted Cruz grilled him about October 7. That’s no different than grilling a Jewish nominee about Israel’s conduct of the war.\n",
      "\n",
      "Are they asking other nominees these questions? Of course not. Only the Muslim nominee. https://t.co/hmKZ691Qpf\n",
      "status: 429, message: \"Rate limit exceeded\n",
      "\" 1768850201115296144 RT @the_transit_guy: https://t.co/yi25BJo6V5\n"
     ]
    },
    {
     "name": "stderr",
     "output_type": "stream",
     "text": [
      "\r",
      " 71%|██████████████████████████████▋            | 10/14 [00:01<00:00,  9.75it/s]"
     ]
    },
    {
     "name": "stdout",
     "output_type": "stream",
     "text": [
      "status: 429, message: \"Rate limit exceeded\n",
      "\" 1768761720535933122 The Board of Supervisors should uphold the Mayor’s veto of Peskin’s downtown down-zoning.\n",
      "\n",
      "If they don’t, new affordable housing will be effectively banned in these wealthy neighborhoods next to robust public transit &amp; downtown jobs.\n",
      "\n",
      "That’s a terrible vision for San Francisco.\n",
      "status: 429, message: \"Rate limit exceeded\n",
      "\" 1768665084979728832 RT @bilalmahmood: Today is the official UN International Day to Combat Islamophobia.\n",
      "\n",
      "So I wanted to get personal and share a story I have…\n"
     ]
    },
    {
     "name": "stderr",
     "output_type": "stream",
     "text": [
      "100%|███████████████████████████████████████████| 14/14 [00:01<00:00,  9.58it/s]"
     ]
    },
    {
     "name": "stdout",
     "output_type": "stream",
     "text": [
      "status: 429, message: \"Rate limit exceeded\n",
      "\" 1768475323530977289 RT @mateosfo: California is going to miss its climate target because pollution keeps growing.\n",
      "\n",
      "You'll never guess why!!! \n",
      "\n",
      "...\n",
      "\n",
      "...\n",
      "\n",
      "...\n",
      "status: 429, message: \"Rate limit exceeded\n",
      "\" 1768374746193035326 RT @LondonBreed: My policy: I will veto any and all anti-housing legislation.\n",
      "\n",
      "A lack of housing hurts workers, families, and our economy.…\n"
     ]
    },
    {
     "name": "stderr",
     "output_type": "stream",
     "text": [
      "\n",
      " 20%|████████▊                                   | 3/15 [00:00<00:00, 15.64it/s]"
     ]
    },
    {
     "name": "stdout",
     "output_type": "stream",
     "text": [
      "status: 429, message: \"Rate limit exceeded\n",
      "\" 1768367065176617073 I’m authoring SB 1012 to create therapeutic access to psychedelics &amp; help address our increasingly dire mental health crisis. Importantly, the bill creates a safer framework for people to access these healing benefits.\n",
      "\n",
      "From psychiatrist Dr. Nathaniel Mills: https://t.co/VKOADLJaty\n",
      "status: 429, message: \"Rate limit exceeded\n",
      "\" 1768165195141304356 RT @JoeBiden: Last year, a young man named Harry wrote me a letter about what it’s like to live with a stutter. Tonight, I met him and his…\n"
     ]
    },
    {
     "name": "stderr",
     "output_type": "stream",
     "text": [
      "\r",
      " 33%|██████████████▋                             | 5/15 [00:00<00:01,  9.34it/s]"
     ]
    },
    {
     "name": "stdout",
     "output_type": "stream",
     "text": [
      "status: 429, message: \"Rate limit exceeded\n",
      "\" 1767962770656632941 RT @LuizaJarovsky: 🚨BREAKING: The European Parliament has just APPROVED the AI Act. What everyone should know:\n",
      "\n",
      "➵ The AI Act follows a risk…\n",
      "status: 429, message: \"Rate limit exceeded\n",
      "\" 1767953717268275371 .@PeteButtigieg: If we focused as intensively on traffic safety as we do airline safety, we’d save so many lives that are now lost on our dangerous roads.\n",
      "\n",
      "I’m authoring 2 bills to make our roads safer: requiring safer street design (SB 960) &amp; addressing excessive speeds (SB 961) https://t.co/pcgbbY47d0\n"
     ]
    },
    {
     "name": "stderr",
     "output_type": "stream",
     "text": [
      "\r",
      " 47%|████████████████████▌                       | 7/15 [00:00<00:00,  9.39it/s]"
     ]
    },
    {
     "name": "stdout",
     "output_type": "stream",
     "text": [
      "status: 429, message: \"Rate limit exceeded\n",
      "\" 1767764051961229726 RT @BigBlueWaveUSA: 🚨🚨🚨THIS is Project 2025.\n",
      "THIS is what Trump &amp; Republicans have drawn up to rule America in 2025. It’s still very underr…\n",
      "status: 429, message: \"Rate limit exceeded\n",
      "\" 1767604592890843174 Our legislation allowing cities to create “entertainment zones” — outdoor areas where local bars &amp; restaurants can sell open container alcohol — just passed its first committee.\n",
      "\n",
      "SB 969 is a key tool for cities like San Francisco to revitalize &amp; reenergize their downtowns.\n"
     ]
    },
    {
     "name": "stderr",
     "output_type": "stream",
     "text": [
      "\r",
      " 60%|██████████████████████████▍                 | 9/15 [00:00<00:00,  9.34it/s]"
     ]
    },
    {
     "name": "stdout",
     "output_type": "stream",
     "text": [
      "status: 429, message: \"Rate limit exceeded\n",
      "\" 1767398287634751959 RT @Noahpinion: The fact that both TikTok's current ownership and prominent CCP propagandists are absolutely DESPERATE to stop a forced sal…\n",
      "status: 429, message: \"Rate limit exceeded\n",
      "\" 1767381280340267078 As a recently out young gay man, I saw David Mixner fighting for people like me. It made all the difference. \n",
      "\n",
      "David was a giant in the fight for basic dignity for LGBTQ people &amp; people living with HIV. He made huge sacrifices to stand up for our community.\n",
      "\n",
      "May he rest in peace. https://t.co/ITL0opgU8x\n"
     ]
    },
    {
     "name": "stderr",
     "output_type": "stream",
     "text": [
      "\r",
      " 73%|███████████████████████████████▌           | 11/15 [00:01<00:00,  9.40it/s]"
     ]
    },
    {
     "name": "stdout",
     "output_type": "stream",
     "text": [
      "status: 429, message: \"Rate limit exceeded\n",
      "\" 1767304968271548767 RT @SFist: We probably have the anti-vaxxers to thank for this one, as a potential measles outbreak could be on the horizon in Sacramento a…\n",
      "status: 429, message: \"Rate limit exceeded\n",
      "\" 1767273047533424765 Yesterday, protesters targeted a major Jewish community event in SF — the 75th anniversary of Jewish Community Relations Council.\n",
      "\n",
      "Many local Jewish orgs, local Jewish leaders &amp; synagogues were part of the event\n",
      "\n",
      "So here we are: Targeting a major Jewish event &amp; thinking it’s ok🧵\n"
     ]
    },
    {
     "name": "stderr",
     "output_type": "stream",
     "text": [
      " 87%|█████████████████████████████████████▎     | 13/15 [00:01<00:00,  9.41it/s]"
     ]
    },
    {
     "name": "stdout",
     "output_type": "stream",
     "text": [
      "status: 429, message: \"Rate limit exceeded\n",
      "\" 1766995040159547451 Happy 75th birthday to the Jewish Community Relations Council Bay Area, one of our pillar Jewish community institutions. Thank you for all you do to support our Jewish community, fight antisemitism here &amp; around true world &amp; work in coalition with other communities. https://t.co/jl2cLVQRfE\n",
      "status: 429, message: \"Rate limit exceeded\n",
      "\" 1766932622029246546 RT @DaveMinCA: 🧵 I’m the Democrat running to succeed Katie Porter in #CA47 and I wanted to introduce myself. I beat back over $5 million in…\n"
     ]
    },
    {
     "name": "stderr",
     "output_type": "stream",
     "text": [
      "100%|███████████████████████████████████████████| 15/15 [00:01<00:00,  9.03it/s]"
     ]
    },
    {
     "name": "stdout",
     "output_type": "stream",
     "text": [
      "status: 429, message: \"Rate limit exceeded\n",
      "\" 1766855303331725764 People are rightly horrified about Katie Britt’s grift — straight up misleading the American people.\n",
      "\n",
      "But let’s not forget that Britt wasn’t just speaking for herself. She was the *official* GOP response to the President’s #SOTU.\n",
      "\n",
      "The GOP has no problem lying to Americans.\n",
      "status: 429, message: \"Rate limit exceeded\n",
      "\" 1766854196484280329 RT @nbcsnl: Sen. Katie Britt delivers the Republican response to President Biden’s State of the Union Address https://t.co/x7mDzO1sWP\n"
     ]
    },
    {
     "name": "stderr",
     "output_type": "stream",
     "text": [
      "\n"
     ]
    }
   ],
   "source": [
    "vals = []\n",
    "tweets = client.get_user_tweets(user_id, 'Tweets', count=20)\n",
    "\n",
    "for i in range(10):\n",
    "    vals.append(tweets_to_values(tweets))\n",
    "    tweets = tweets.next()"
   ]
  },
  {
   "cell_type": "code",
   "execution_count": 11,
   "id": "1455b6db",
   "metadata": {},
   "outputs": [
    {
     "data": {
      "text/plain": [
       "dict_keys(['date', 'id', 'author', 'text', 'embedding'])"
      ]
     },
     "execution_count": 11,
     "metadata": {},
     "output_type": "execute_result"
    }
   ],
   "source": [
    "vals[0][0].keys()"
   ]
  },
  {
   "cell_type": "code",
   "execution_count": 12,
   "id": "d50636ad",
   "metadata": {},
   "outputs": [
    {
     "data": {
      "text/plain": [
       "'Scott said \"\"\"Just when I think I’ve seen every conceivable conspiracy theory about how Jews supposedly control &amp; manipulate the world, a new unhinged one emerges.\\n\\nThe proliferation of TikTok content spreading this antisemitic conspiracy theory is disturbing. https://t.co/wgWolgF67m\\nhttps://t.co/4grUP49DVH\"\"\"'"
      ]
     },
     "execution_count": 12,
     "metadata": {},
     "output_type": "execute_result"
    }
   ],
   "source": [
    "vals[0][0].get('text')"
   ]
  },
  {
   "cell_type": "code",
   "execution_count": 13,
   "id": "3a0638d7",
   "metadata": {},
   "outputs": [
    {
     "name": "stdout",
     "output_type": "stream",
     "text": [
      "dict_keys(['date', 'id', 'author', 'text', 'embedding'])\n",
      "Inserted 1 records into the 'context' table.\n",
      "dict_keys(['date', 'id', 'author', 'text', 'embedding'])\n",
      "Inserted 1 records into the 'context' table.\n",
      "dict_keys(['date', 'id', 'author', 'text', 'embedding'])\n",
      "Inserted 1 records into the 'context' table.\n",
      "dict_keys(['date', 'id', 'author', 'text', 'embedding'])\n",
      "Inserted 1 records into the 'context' table.\n",
      "dict_keys(['date', 'id', 'author', 'text', 'embedding'])\n",
      "Inserted 1 records into the 'context' table.\n",
      "dict_keys(['date', 'id', 'author', 'text', 'embedding'])\n",
      "Inserted 1 records into the 'context' table.\n",
      "dict_keys(['date', 'id', 'author', 'text', 'embedding'])\n",
      "Inserted 1 records into the 'context' table.\n",
      "dict_keys(['date', 'id', 'author', 'text', 'embedding'])\n",
      "Inserted 1 records into the 'context' table.\n",
      "dict_keys(['date', 'id', 'author', 'text', 'embedding'])\n",
      "Inserted 1 records into the 'context' table.\n",
      "dict_keys(['date', 'id', 'author', 'text', 'embedding'])\n",
      "Inserted 1 records into the 'context' table.\n",
      "dict_keys(['date', 'id', 'author', 'text', 'embedding'])\n",
      "Inserted 1 records into the 'context' table.\n",
      "dict_keys(['date', 'id', 'author', 'text', 'embedding'])\n",
      "Inserted 1 records into the 'context' table.\n",
      "dict_keys(['date', 'id', 'author', 'text', 'embedding'])\n",
      "Inserted 1 records into the 'context' table.\n",
      "dict_keys(['date', 'id', 'author', 'text', 'embedding'])\n",
      "Inserted 1 records into the 'context' table.\n",
      "dict_keys(['date', 'id', 'author', 'text', 'embedding'])\n",
      "Inserted 1 records into the 'context' table.\n",
      "dict_keys(['date', 'id', 'author', 'text', 'embedding'])\n",
      "Inserted 1 records into the 'context' table.\n",
      "dict_keys(['date', 'id', 'author', 'text', 'embedding'])\n",
      "Inserted 1 records into the 'context' table.\n",
      "dict_keys(['date', 'id', 'author', 'text', 'embedding'])\n",
      "Inserted 1 records into the 'context' table.\n",
      "dict_keys(['date', 'id', 'author', 'text', 'embedding'])\n",
      "Inserted 1 records into the 'context' table.\n",
      "dict_keys(['date', 'id', 'author', 'text', 'embedding'])\n",
      "Inserted 1 records into the 'context' table.\n",
      "dict_keys(['date', 'id', 'author', 'text', 'embedding'])\n",
      "Inserted 1 records into the 'context' table.\n",
      "dict_keys(['date', 'id', 'author', 'text', 'embedding'])\n",
      "Inserted 1 records into the 'context' table.\n",
      "dict_keys(['date', 'id', 'author', 'text', 'embedding'])\n",
      "Inserted 1 records into the 'context' table.\n",
      "dict_keys(['date', 'id', 'author', 'text', 'embedding'])\n",
      "Inserted 1 records into the 'context' table.\n",
      "dict_keys(['date', 'id', 'author', 'text', 'embedding'])\n",
      "Inserted 1 records into the 'context' table.\n",
      "dict_keys(['date', 'id', 'author', 'text', 'embedding'])\n",
      "Inserted 1 records into the 'context' table.\n",
      "dict_keys(['date', 'id', 'author', 'text', 'embedding'])\n",
      "Inserted 1 records into the 'context' table.\n",
      "dict_keys(['date', 'id', 'author', 'text', 'embedding'])\n",
      "Inserted 1 records into the 'context' table.\n",
      "dict_keys(['date', 'id', 'author', 'text', 'embedding'])\n",
      "Inserted 1 records into the 'context' table.\n",
      "dict_keys(['date', 'id', 'author', 'text', 'embedding'])\n",
      "Inserted 1 records into the 'context' table.\n",
      "dict_keys(['date', 'id', 'author', 'text', 'embedding'])\n",
      "Inserted 1 records into the 'context' table.\n",
      "dict_keys(['date', 'id', 'author', 'text', 'embedding'])\n",
      "Inserted 1 records into the 'context' table.\n",
      "dict_keys(['date', 'id', 'author', 'text', 'embedding'])\n",
      "Inserted 1 records into the 'context' table.\n",
      "dict_keys(['date', 'id', 'author', 'text', 'embedding'])\n",
      "Inserted 1 records into the 'context' table.\n"
     ]
    }
   ],
   "source": [
    "from datetime import datetime\n",
    "import psycopg2\n",
    "from psycopg2.extras import execute_values\n",
    "def generate_random_date():\n",
    "    start_date = datetime.now() - timedelta(days=365 * 10)  # 10 years ago\n",
    "    end_date = datetime.now()  # today\n",
    "\n",
    "    # Generate a random date between start_date and end_date\n",
    "    random_date = start_date + timedelta(\n",
    "        seconds=random.randint(0, int((end_date - start_date).total_seconds()))\n",
    "    )\n",
    "    \n",
    "    return random_date.strftime('%Y-%m-%d %H:%M:%S')\n",
    "\n",
    "def parse_date(date_str):\n",
    "    \"\"\"Convert a date string to a datetime object.\"\"\"\n",
    "    return datetime.strptime(date_str, '%b %d, %Y')\n",
    "\n",
    "def date_to_postgres_timestamp(date_str):\n",
    "    \"\"\"Convert a date string to a format accepted by PostgreSQL.\"\"\"\n",
    "    date_obj = parse_date(date_str)\n",
    "    return date_obj.strftime('%Y-%m-%d %H:%M:%S')\n",
    "\n",
    "def insert_into_context(records):\n",
    "    \"\"\"Insert records into the context table.\"\"\"\n",
    "    conn_params = {\n",
    "        'dbname': 'postgres',\n",
    "        'user': 'postgres',\n",
    "        'password': 'Pajpakpaj1',\n",
    "        'host': 'database-5.ckd3zcdvzn0x.us-east-1.rds.amazonaws.com',\n",
    "        'port': '5432'\n",
    "    }\n",
    "\n",
    "    try:\n",
    "        with psycopg2.connect(**conn_params) as conn:\n",
    "            with conn.cursor() as cur:\n",
    "                insert_query = \"\"\"\n",
    "                INSERT INTO context (id, text, date, author, timestamp, link, embedding)\n",
    "                VALUES %s ON CONFLICT (id) DO NOTHING;\n",
    "                \"\"\"\n",
    "\n",
    "                tuple_list = [\n",
    "                    (\n",
    "                        record.get('id'),  # Use direct access since 'id' must exist\n",
    "                        record.get('text'),\n",
    "                        None,\n",
    "#                         parse_date(record.get('date')).date(),  # Assumes date is stored as date type\n",
    "                        record.get('author'),\n",
    "                        None,\n",
    "#                         datetime.fromtimestamp(record.get('timestamp')).strftime('%Y-%m-%d %H:%M:%S'),\n",
    "                        None,\n",
    "                        record.get('embedding')\n",
    "                    )\n",
    "                    for record in records\n",
    "                    if all(k in record for k in ['id', 'text', 'date', 'embedding'])  # Ensure all keys exist\n",
    "                ]\n",
    "\n",
    "                # Execute the insert query\n",
    "                execute_values(cur, insert_query, tuple_list)\n",
    "                conn.commit()\n",
    "                print(f\"Inserted {len(tuple_list)} records into the 'context' table.\")\n",
    "\n",
    "    except Exception as e:\n",
    "        print(\"An error occurred:\", e)\n",
    "\n",
    "\n",
    "\n",
    "for k in vals:\n",
    "    for tweet in k:\n",
    "        print(tweet.keys())\n",
    "        insert_into_context([tweet])\n",
    "        "
   ]
  },
  {
   "cell_type": "code",
   "execution_count": null,
   "id": "188c5bf6",
   "metadata": {},
   "outputs": [],
   "source": [
    "sk = \"\"\"\n",
    "dict_keys(['date', 'id', 'author', 'text', 'embedding'])\n",
    "Inserted 1 records into the 'context' table.\n",
    "dict_keys(['date', 'id', 'author', 'text', 'embedding'])\n",
    "Inserted 1 records into the 'context' table.\n",
    "dict_keys(['date', 'id', 'author', 'text', 'embedding'])\n",
    "Inserted 1 records into the 'context' table.\n",
    "dict_keys(['date', 'id', 'author', 'text', 'embedding'])\n",
    "Inserted 1 records into the 'context' table.\n",
    "dict_keys(['date', 'id', 'author', 'text', 'embedding'])\n",
    "Inserted 1 records into the 'context' table.\n",
    "dict_keys(['date', 'id', 'author', 'text', 'embedding'])\n",
    "Inserted 1 records into the 'context' table.\n",
    "dict_keys(['date', 'id', 'author', 'text', 'embedding'])\n",
    "Inserted 1 records into the 'context' table.\n",
    "dict_keys(['date', 'id', 'author', 'text', 'embedding'])\n",
    "Inserted 1 records into the 'context' table.\n",
    "dict_keys(['date', 'id', 'author', 'text', 'embedding'])\n",
    "Inserted 1 records into the 'context' table.\n",
    "dict_keys(['date', 'id', 'author', 'text', 'embedding'])\n",
    "Inserted 1 records into the 'context' table.\n",
    "dict_keys(['date', 'id', 'author', 'text', 'embedding'])\n",
    "Inserted 1 records into the 'context' table.\n",
    "dict_keys(['date', 'id', 'author', 'text', 'embedding'])\n",
    "Inserted 1 records into the 'context' table.\n",
    "dict_keys(['date', 'id', 'author', 'text', 'embedding'])\n",
    "Inserted 1 records into the 'context' table.\n",
    "dict_keys(['date', 'id', 'author', 'text', 'embedding'])\n",
    "Inserted 1 records into the 'context' table.\n",
    "dict_keys(['date', 'id', 'author', 'text', 'embedding'])\n",
    "Inserted 1 records into the 'context' table.\n",
    "dict_keys(['date', 'id', 'author', 'text', 'embedding'])\n",
    "Inserted 1 records into the 'context' table.\n",
    "dict_keys(['date', 'id', 'author', 'text', 'embedding'])\n",
    "Inserted 1 records into the 'context' table.\n",
    "dict_keys(['date', 'id', 'author', 'text', 'embedding'])\n",
    "Inserted 1 records into the 'context' table.\n",
    "dict_keys(['date', 'id', 'author', 'text', 'embedding'])\n",
    "Inserted 1 records into the 'context' table.\n",
    "dict_keys(['date', 'id', 'author', 'text', 'embedding'])\n",
    "Inserted 1 records into the 'context' table.\n",
    "dict_keys(['date', 'id', 'author', 'text', 'embedding'])\n",
    "Inserted 1 records into the 'context' table.\n",
    "dict_keys(['date', 'id', 'author', 'text', 'embedding'])\n",
    "Inserted 1 records into the 'context' table.\n",
    "dict_keys(['date', 'id', 'author', 'text', 'embedding'])\n",
    "Inserted 1 records into the 'context' table.\n",
    "dict_keys(['date', 'id', 'author', 'text', 'embedding'])\n",
    "Inserted 1 records into the 'context' table.\n",
    "dict_keys(['date', 'id', 'author', 'text', 'embedding'])\n",
    "Inserted 1 records into the 'context' table.\n",
    "dict_keys(['date', 'id', 'author', 'text', 'embedding'])\n",
    "Inserted 1 records into the 'context' table.\n",
    "dict_keys(['date', 'id', 'author', 'text', 'embedding'])\n",
    "Inserted 1 records into the 'context' table.\n",
    "dict_keys(['date', 'id', 'author', 'text', 'embedding'])\n",
    "Inserted 1 records into the 'context' table.\n",
    "dict_keys(['date', 'id', 'author', 'text', 'embedding'])\n",
    "\"\"\""
   ]
  },
  {
   "cell_type": "code",
   "execution_count": null,
   "id": "bb473257",
   "metadata": {},
   "outputs": [],
   "source": []
  }
 ],
 "metadata": {
  "kernelspec": {
   "display_name": "Python 3 (ipykernel)",
   "language": "python",
   "name": "python3"
  },
  "language_info": {
   "codemirror_mode": {
    "name": "ipython",
    "version": 3
   },
   "file_extension": ".py",
   "mimetype": "text/x-python",
   "name": "python",
   "nbconvert_exporter": "python",
   "pygments_lexer": "ipython3",
   "version": "3.11.7"
  }
 },
 "nbformat": 4,
 "nbformat_minor": 5
}
