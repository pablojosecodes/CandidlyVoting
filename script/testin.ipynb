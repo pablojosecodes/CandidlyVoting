{
 "cells": [
  {
   "cell_type": "code",
   "execution_count": 1,
   "id": "0693d81d",
   "metadata": {},
   "outputs": [
    {
     "data": {
      "text/plain": [
       "['scott_psych.json',\n",
       " 'yvette_election.m4a',\n",
       " '.DS_Store',\n",
       " 'Speeches-Copy1.ipynb',\n",
       " 'Tweets.ipynb',\n",
       " 'scott_interview.m4a',\n",
       " 'psych.m4a',\n",
       " 'Speeches.ipynb',\n",
       " 'Yvette_Trans.json',\n",
       " 'Yvette_election.json',\n",
       " '.ipynb_checkpoints',\n",
       " 'psych_scott.json',\n",
       " 'yvette_interview.json',\n",
       " 'testin.ipynb',\n",
       " 'scott_interview.json',\n",
       " 'scott.json',\n",
       " 'yvette_trans.m4a']"
      ]
     },
     "execution_count": 1,
     "metadata": {},
     "output_type": "execute_result"
    }
   ],
   "source": [
    "import os\n",
    "import json\n",
    "os.listdir(\".\")"
   ]
  },
  {
   "cell_type": "code",
   "execution_count": 2,
   "id": "34a6b59e",
   "metadata": {},
   "outputs": [],
   "source": [
    "interview = {}\n",
    "\n",
    "def get(file):\n",
    "    f = open(file)\n",
    "    return json.load(f)\n",
    "interview['Scott Interview'] = get(\"scott_interview.json\")\n",
    "interview['Scott Pysch'] = get(\"scott_psych.json\")\n",
    "interview['Yvette Trans'] = get(\"yvette_trans.json\")\n",
    "interview['Yvette Interview'] = get(\"yvette_interview.json\")"
   ]
  },
  {
   "cell_type": "code",
   "execution_count": 3,
   "id": "83477c43",
   "metadata": {},
   "outputs": [
    {
     "ename": "NameError",
     "evalue": "name 'l' is not defined",
     "output_type": "error",
     "traceback": [
      "\u001b[0;31m---------------------------------------------------------------------------\u001b[0m",
      "\u001b[0;31mNameError\u001b[0m                                 Traceback (most recent call last)",
      "Cell \u001b[0;32mIn[3], line 1\u001b[0m\n\u001b[0;32m----> 1\u001b[0m \u001b[43ml\u001b[49m[\u001b[38;5;241m0\u001b[39m]\u001b[38;5;241m.\u001b[39mkeys()\n",
      "\u001b[0;31mNameError\u001b[0m: name 'l' is not defined"
     ]
    }
   ],
   "source": [
    "l[0].keys()"
   ]
  },
  {
   "cell_type": "code",
   "execution_count": 5,
   "id": "1abcfef0",
   "metadata": {},
   "outputs": [],
   "source": [
    "k = interview['Yvette Interview'][0]\n"
   ]
  },
  {
   "cell_type": "code",
   "execution_count": 6,
   "id": "8a7ad77d",
   "metadata": {},
   "outputs": [
    {
     "data": {
      "text/plain": [
       "dict_keys(['id', 'author', 'date', 'text', 'timestamp', 'embedding'])"
      ]
     },
     "execution_count": 6,
     "metadata": {},
     "output_type": "execute_result"
    }
   ],
   "source": [
    "k.keys()"
   ]
  },
  {
   "cell_type": "code",
   "execution_count": 8,
   "id": "ee2fbe3a",
   "metadata": {},
   "outputs": [
    {
     "data": {
      "text/plain": [
       "3072"
      ]
     },
     "execution_count": 8,
     "metadata": {},
     "output_type": "execute_result"
    }
   ],
   "source": [
    "len(k['embedding'])"
   ]
  },
  {
   "cell_type": "code",
   "execution_count": 43,
   "id": "a4652315",
   "metadata": {},
   "outputs": [],
   "source": [
    "from datetime import datetime\n",
    "import psycopg2\n",
    "from psycopg2.extras import execute_values\n",
    "def unix_to_datetime(unix_timestamp):\n",
    "    return datetime.fromtimestamp(unix_timestamp)\n",
    "\n",
    "def parse_date(date_str):\n",
    "    # Convert the string to a datetime object\n",
    "    return datetime.strptime(date_str, '%b %d, %Y')\n",
    "def date_to_postgres_timestamp(date_str):\n",
    "    date_obj = parse_date(date_str)\n",
    "    # Format the datetime object as a string accepted by PostgreSQL\n",
    "    return date_obj.strftime('%Y-%m-%d %H:%M:%S')\n",
    "\n",
    "def parse_date(date_str):\n",
    "    return datetime.strptime(date_str, '%b %d, %Y')\n",
    "\n",
    "def insert_into_context(records, val):\n",
    "    conn_params = {\n",
    "        'dbname': 'postgres',\n",
    "        'user': 'postgres',\n",
    "        'password': 'Pajpakpaj1',\n",
    "        'host': 'database-5.ckd3zcdvzn0x.us-east-1.rds.amazonaws.com',\n",
    "        'port': '5432'\n",
    "    }\n",
    "\n",
    "    with psycopg2.connect(**conn_params) as conn:\n",
    "        with conn.cursor() as cur:\n",
    "            insert_query = \"\"\"\n",
    "            INSERT INTO context (id, text, date, author, timestamp, link,embedding)\n",
    "            VALUES %s\n",
    "            ON CONFLICT (id) DO NOTHING;\n",
    "            \"\"\"\n",
    "\n",
    "            print(str(val))\n",
    "            tuple_list = [\n",
    "                (\n",
    "                    str(val), \n",
    "                    record.get('text'), \n",
    "                    \n",
    "                    parse_date(record.get('date')).date(),  # Assuming date is to be stored as a date type\n",
    "                    record.get('author'), \n",
    "                    datetime.fromtimestamp(record.get('timestamp')).strftime('%Y-%m-%d %H:%M:%S'),  # Convert Unix timestamp to PostgreSQL timestamp\n",
    "\n",
    "#                     record.get('timestamp'),  # Assuming timestamp is already formatted correctly\n",
    "                    record.get('id'),\n",
    "                    record.get('embedding')\n",
    "                )\n",
    "                for record in records if 'id' in record and 'text' in record and 'date' in record\n",
    "            ]\n",
    "\n",
    "            execute_values(cur, insert_query, tuple_list)\n",
    "            conn.commit()\n",
    "            \n",
    "#             print(f\"Inserted {cur.rowcount} records into the 'context' table.\")\n",
    "\n",
    "\n"
   ]
  },
  {
   "cell_type": "code",
   "execution_count": 48,
   "id": "5d317c0c",
   "metadata": {},
   "outputs": [
    {
     "name": "stderr",
     "output_type": "stream",
     "text": [
      "\r",
      "  0%|                                                       | 0/40 [00:00<?, ?it/s]"
     ]
    },
    {
     "name": "stdout",
     "output_type": "stream",
     "text": [
      "Scott1\n"
     ]
    },
    {
     "name": "stderr",
     "output_type": "stream",
     "text": [
      "\r",
      "  2%|█▏                                             | 1/40 [00:01<00:39,  1.02s/it]"
     ]
    },
    {
     "name": "stdout",
     "output_type": "stream",
     "text": [
      "Inserted 1 records into the 'context' table.\n",
      "Scott2\n"
     ]
    },
    {
     "name": "stderr",
     "output_type": "stream",
     "text": [
      "\r",
      "  5%|██▎                                            | 2/40 [00:02<00:38,  1.00s/it]"
     ]
    },
    {
     "name": "stdout",
     "output_type": "stream",
     "text": [
      "Inserted 1 records into the 'context' table.\n",
      "Scott3\n"
     ]
    },
    {
     "name": "stderr",
     "output_type": "stream",
     "text": [
      "\r",
      "  8%|███▌                                           | 3/40 [00:03<00:37,  1.01s/it]"
     ]
    },
    {
     "name": "stdout",
     "output_type": "stream",
     "text": [
      "Inserted 1 records into the 'context' table.\n",
      "Scott4\n"
     ]
    },
    {
     "name": "stderr",
     "output_type": "stream",
     "text": [
      "\r",
      " 10%|████▋                                          | 4/40 [00:04<00:36,  1.01s/it]"
     ]
    },
    {
     "name": "stdout",
     "output_type": "stream",
     "text": [
      "Inserted 1 records into the 'context' table.\n",
      "Scott5\n"
     ]
    },
    {
     "name": "stderr",
     "output_type": "stream",
     "text": [
      "\r",
      " 12%|█████▉                                         | 5/40 [00:05<00:35,  1.02s/it]"
     ]
    },
    {
     "name": "stdout",
     "output_type": "stream",
     "text": [
      "Inserted 1 records into the 'context' table.\n",
      "Scott6\n"
     ]
    },
    {
     "name": "stderr",
     "output_type": "stream",
     "text": [
      "\r",
      " 15%|███████                                        | 6/40 [00:06<00:34,  1.00s/it]"
     ]
    },
    {
     "name": "stdout",
     "output_type": "stream",
     "text": [
      "Inserted 1 records into the 'context' table.\n",
      "Scott7\n"
     ]
    },
    {
     "name": "stderr",
     "output_type": "stream",
     "text": [
      "\r",
      " 18%|████████▏                                      | 7/40 [00:07<00:33,  1.01s/it]"
     ]
    },
    {
     "name": "stdout",
     "output_type": "stream",
     "text": [
      "Inserted 1 records into the 'context' table.\n",
      "Scott8\n"
     ]
    },
    {
     "name": "stderr",
     "output_type": "stream",
     "text": [
      "\r",
      " 20%|█████████▍                                     | 8/40 [00:08<00:32,  1.01s/it]"
     ]
    },
    {
     "name": "stdout",
     "output_type": "stream",
     "text": [
      "Inserted 1 records into the 'context' table.\n",
      "Scott9\n"
     ]
    },
    {
     "name": "stderr",
     "output_type": "stream",
     "text": [
      "\r",
      " 22%|██████████▌                                    | 9/40 [00:09<00:31,  1.01s/it]"
     ]
    },
    {
     "name": "stdout",
     "output_type": "stream",
     "text": [
      "Inserted 1 records into the 'context' table.\n",
      "Scott10\n"
     ]
    },
    {
     "name": "stderr",
     "output_type": "stream",
     "text": [
      "\r",
      " 25%|███████████▌                                  | 10/40 [00:10<00:30,  1.01s/it]"
     ]
    },
    {
     "name": "stdout",
     "output_type": "stream",
     "text": [
      "Inserted 1 records into the 'context' table.\n",
      "Scott11\n"
     ]
    },
    {
     "name": "stderr",
     "output_type": "stream",
     "text": [
      "\r",
      " 28%|████████████▋                                 | 11/40 [00:11<00:29,  1.00s/it]"
     ]
    },
    {
     "name": "stdout",
     "output_type": "stream",
     "text": [
      "Inserted 1 records into the 'context' table.\n",
      "Scott12\n"
     ]
    },
    {
     "name": "stderr",
     "output_type": "stream",
     "text": [
      "\r",
      " 30%|█████████████▊                                | 12/40 [00:12<00:28,  1.00s/it]"
     ]
    },
    {
     "name": "stdout",
     "output_type": "stream",
     "text": [
      "Inserted 1 records into the 'context' table.\n",
      "Scott13\n"
     ]
    },
    {
     "name": "stderr",
     "output_type": "stream",
     "text": [
      "\r",
      " 32%|██████████████▉                               | 13/40 [00:13<00:27,  1.00s/it]"
     ]
    },
    {
     "name": "stdout",
     "output_type": "stream",
     "text": [
      "Inserted 1 records into the 'context' table.\n",
      "Scott14\n"
     ]
    },
    {
     "name": "stderr",
     "output_type": "stream",
     "text": [
      "\r",
      " 35%|████████████████                              | 14/40 [00:14<00:25,  1.01it/s]"
     ]
    },
    {
     "name": "stdout",
     "output_type": "stream",
     "text": [
      "Inserted 1 records into the 'context' table.\n",
      "Scott15\n"
     ]
    },
    {
     "name": "stderr",
     "output_type": "stream",
     "text": [
      "\r",
      " 38%|█████████████████▎                            | 15/40 [00:15<00:25,  1.00s/it]"
     ]
    },
    {
     "name": "stdout",
     "output_type": "stream",
     "text": [
      "Inserted 1 records into the 'context' table.\n",
      "Scott16\n"
     ]
    },
    {
     "name": "stderr",
     "output_type": "stream",
     "text": [
      "\r",
      " 40%|██████████████████▍                           | 16/40 [00:16<00:24,  1.00s/it]"
     ]
    },
    {
     "name": "stdout",
     "output_type": "stream",
     "text": [
      "Inserted 1 records into the 'context' table.\n",
      "Scott17\n"
     ]
    },
    {
     "name": "stderr",
     "output_type": "stream",
     "text": [
      "\r",
      " 42%|███████████████████▌                          | 17/40 [00:17<00:23,  1.00s/it]"
     ]
    },
    {
     "name": "stdout",
     "output_type": "stream",
     "text": [
      "Inserted 1 records into the 'context' table.\n",
      "Scott18\n"
     ]
    },
    {
     "name": "stderr",
     "output_type": "stream",
     "text": [
      "\r",
      " 45%|████████████████████▋                         | 18/40 [00:18<00:22,  1.00s/it]"
     ]
    },
    {
     "name": "stdout",
     "output_type": "stream",
     "text": [
      "Inserted 1 records into the 'context' table.\n",
      "Scott19\n"
     ]
    },
    {
     "name": "stderr",
     "output_type": "stream",
     "text": [
      "\r",
      " 48%|█████████████████████▊                        | 19/40 [00:19<00:21,  1.03s/it]"
     ]
    },
    {
     "name": "stdout",
     "output_type": "stream",
     "text": [
      "Inserted 1 records into the 'context' table.\n",
      "Scott20\n"
     ]
    },
    {
     "name": "stderr",
     "output_type": "stream",
     "text": [
      "\r",
      " 50%|███████████████████████                       | 20/40 [00:20<00:20,  1.01s/it]"
     ]
    },
    {
     "name": "stdout",
     "output_type": "stream",
     "text": [
      "Inserted 1 records into the 'context' table.\n",
      "Scott21\n"
     ]
    },
    {
     "name": "stderr",
     "output_type": "stream",
     "text": [
      "\r",
      " 52%|████████████████████████▏                     | 21/40 [00:21<00:19,  1.03s/it]"
     ]
    },
    {
     "name": "stdout",
     "output_type": "stream",
     "text": [
      "Inserted 1 records into the 'context' table.\n",
      "Scott22\n"
     ]
    },
    {
     "name": "stderr",
     "output_type": "stream",
     "text": [
      "\r",
      " 55%|█████████████████████████▎                    | 22/40 [00:22<00:18,  1.01s/it]"
     ]
    },
    {
     "name": "stdout",
     "output_type": "stream",
     "text": [
      "Inserted 1 records into the 'context' table.\n",
      "Scott23\n"
     ]
    },
    {
     "name": "stderr",
     "output_type": "stream",
     "text": [
      "\r",
      " 57%|██████████████████████████▍                   | 23/40 [00:23<00:17,  1.02s/it]"
     ]
    },
    {
     "name": "stdout",
     "output_type": "stream",
     "text": [
      "Inserted 1 records into the 'context' table.\n",
      "Scott24\n"
     ]
    },
    {
     "name": "stderr",
     "output_type": "stream",
     "text": [
      "\r",
      " 60%|███████████████████████████▌                  | 24/40 [00:24<00:16,  1.01s/it]"
     ]
    },
    {
     "name": "stdout",
     "output_type": "stream",
     "text": [
      "Inserted 1 records into the 'context' table.\n",
      "Scott25\n"
     ]
    },
    {
     "name": "stderr",
     "output_type": "stream",
     "text": [
      "\r",
      " 62%|████████████████████████████▊                 | 25/40 [00:25<00:15,  1.01s/it]"
     ]
    },
    {
     "name": "stdout",
     "output_type": "stream",
     "text": [
      "Inserted 1 records into the 'context' table.\n",
      "Scott26\n"
     ]
    },
    {
     "name": "stderr",
     "output_type": "stream",
     "text": [
      "\r",
      " 65%|█████████████████████████████▉                | 26/40 [00:26<00:14,  1.00s/it]"
     ]
    },
    {
     "name": "stdout",
     "output_type": "stream",
     "text": [
      "Inserted 1 records into the 'context' table.\n",
      "Scott27\n"
     ]
    },
    {
     "name": "stderr",
     "output_type": "stream",
     "text": [
      "\r",
      " 68%|███████████████████████████████               | 27/40 [00:27<00:13,  1.01s/it]"
     ]
    },
    {
     "name": "stdout",
     "output_type": "stream",
     "text": [
      "Inserted 1 records into the 'context' table.\n",
      "Scott28\n"
     ]
    },
    {
     "name": "stderr",
     "output_type": "stream",
     "text": [
      "\r",
      " 70%|████████████████████████████████▏             | 28/40 [00:28<00:12,  1.01s/it]"
     ]
    },
    {
     "name": "stdout",
     "output_type": "stream",
     "text": [
      "Inserted 1 records into the 'context' table.\n",
      "Scott29\n"
     ]
    },
    {
     "name": "stderr",
     "output_type": "stream",
     "text": [
      "\r",
      " 72%|█████████████████████████████████▎            | 29/40 [00:29<00:11,  1.01s/it]"
     ]
    },
    {
     "name": "stdout",
     "output_type": "stream",
     "text": [
      "Inserted 1 records into the 'context' table.\n",
      "Scott30\n"
     ]
    },
    {
     "name": "stderr",
     "output_type": "stream",
     "text": [
      "\r",
      " 75%|██████████████████████████████████▌           | 30/40 [00:30<00:09,  1.00it/s]"
     ]
    },
    {
     "name": "stdout",
     "output_type": "stream",
     "text": [
      "Inserted 1 records into the 'context' table.\n",
      "Scott31\n"
     ]
    },
    {
     "name": "stderr",
     "output_type": "stream",
     "text": [
      "\r",
      " 78%|███████████████████████████████████▋          | 31/40 [00:31<00:09,  1.00s/it]"
     ]
    },
    {
     "name": "stdout",
     "output_type": "stream",
     "text": [
      "Inserted 1 records into the 'context' table.\n",
      "Scott32\n"
     ]
    },
    {
     "name": "stderr",
     "output_type": "stream",
     "text": [
      "\r",
      " 80%|████████████████████████████████████▊         | 32/40 [00:32<00:07,  1.00it/s]"
     ]
    },
    {
     "name": "stdout",
     "output_type": "stream",
     "text": [
      "Inserted 1 records into the 'context' table.\n",
      "Scott33\n"
     ]
    },
    {
     "name": "stderr",
     "output_type": "stream",
     "text": [
      "\r",
      " 82%|█████████████████████████████████████▉        | 33/40 [00:33<00:07,  1.02s/it]"
     ]
    },
    {
     "name": "stdout",
     "output_type": "stream",
     "text": [
      "Inserted 1 records into the 'context' table.\n",
      "Scott34\n"
     ]
    },
    {
     "name": "stderr",
     "output_type": "stream",
     "text": [
      "\r",
      " 85%|███████████████████████████████████████       | 34/40 [00:34<00:06,  1.00s/it]"
     ]
    },
    {
     "name": "stdout",
     "output_type": "stream",
     "text": [
      "Inserted 1 records into the 'context' table.\n",
      "Scott35\n"
     ]
    },
    {
     "name": "stderr",
     "output_type": "stream",
     "text": [
      "\r",
      " 88%|████████████████████████████████████████▎     | 35/40 [00:35<00:04,  1.00it/s]"
     ]
    },
    {
     "name": "stdout",
     "output_type": "stream",
     "text": [
      "Inserted 1 records into the 'context' table.\n",
      "Scott36\n"
     ]
    },
    {
     "name": "stderr",
     "output_type": "stream",
     "text": [
      "\r",
      " 90%|█████████████████████████████████████████▍    | 36/40 [00:36<00:03,  1.01it/s]"
     ]
    },
    {
     "name": "stdout",
     "output_type": "stream",
     "text": [
      "Inserted 1 records into the 'context' table.\n",
      "Scott37\n"
     ]
    },
    {
     "name": "stderr",
     "output_type": "stream",
     "text": [
      "\r",
      " 92%|██████████████████████████████████████████▌   | 37/40 [00:37<00:03,  1.02s/it]"
     ]
    },
    {
     "name": "stdout",
     "output_type": "stream",
     "text": [
      "Inserted 1 records into the 'context' table.\n",
      "Scott38\n"
     ]
    },
    {
     "name": "stderr",
     "output_type": "stream",
     "text": [
      "\r",
      " 95%|███████████████████████████████████████████▋  | 38/40 [00:38<00:02,  1.04s/it]"
     ]
    },
    {
     "name": "stdout",
     "output_type": "stream",
     "text": [
      "Inserted 1 records into the 'context' table.\n",
      "Scott39\n"
     ]
    },
    {
     "name": "stderr",
     "output_type": "stream",
     "text": [
      "\r",
      " 98%|████████████████████████████████████████████▊ | 39/40 [00:39<00:01,  1.03s/it]"
     ]
    },
    {
     "name": "stdout",
     "output_type": "stream",
     "text": [
      "Inserted 1 records into the 'context' table.\n",
      "Scott40\n"
     ]
    },
    {
     "name": "stderr",
     "output_type": "stream",
     "text": [
      "100%|██████████████████████████████████████████████| 40/40 [00:40<00:00,  1.01s/it]"
     ]
    },
    {
     "name": "stdout",
     "output_type": "stream",
     "text": [
      "Inserted 1 records into the 'context' table.\n"
     ]
    },
    {
     "name": "stderr",
     "output_type": "stream",
     "text": [
      "\n"
     ]
    }
   ],
   "source": [
    "x = 1\n",
    "from tqdm import tqdm\n",
    "for record in tqdm(interview['Scott Interview']):\n",
    "#     print(record)\n",
    "    insert_into_context([record], \"Scott\" + str(x))\n",
    "    x+=1\n",
    "    \n",
    "# insert_into_context(interview['Yvette Interview'][0:1], \"0\")"
   ]
  },
  {
   "cell_type": "code",
   "execution_count": 31,
   "id": "78ee163b",
   "metadata": {},
   "outputs": [
    {
     "ename": "KeyError",
     "evalue": "'link'",
     "output_type": "error",
     "traceback": [
      "\u001b[0;31m---------------------------------------------------------------------------\u001b[0m",
      "\u001b[0;31mKeyError\u001b[0m                                  Traceback (most recent call last)",
      "Cell \u001b[0;32mIn[31], line 1\u001b[0m\n\u001b[0;32m----> 1\u001b[0m \u001b[43minterview\u001b[49m\u001b[43m[\u001b[49m\u001b[38;5;124;43m'\u001b[39;49m\u001b[38;5;124;43mYvette Interview\u001b[39;49m\u001b[38;5;124;43m'\u001b[39;49m\u001b[43m]\u001b[49m\u001b[43m[\u001b[49m\u001b[38;5;241;43m0\u001b[39;49m\u001b[43m]\u001b[49m\u001b[43m[\u001b[49m\u001b[38;5;124;43m'\u001b[39;49m\u001b[38;5;124;43mlink\u001b[39;49m\u001b[38;5;124;43m'\u001b[39;49m\u001b[43m]\u001b[49m\n",
      "\u001b[0;31mKeyError\u001b[0m: 'link'"
     ]
    }
   ],
   "source": [
    "interview['Yvette Interview'][0]['link']"
   ]
  },
  {
   "cell_type": "code",
   "execution_count": null,
   "id": "930e1b0d",
   "metadata": {},
   "outputs": [],
   "source": []
  }
 ],
 "metadata": {
  "kernelspec": {
   "display_name": "Python 3 (ipykernel)",
   "language": "python",
   "name": "python3"
  },
  "language_info": {
   "codemirror_mode": {
    "name": "ipython",
    "version": 3
   },
   "file_extension": ".py",
   "mimetype": "text/x-python",
   "name": "python",
   "nbconvert_exporter": "python",
   "pygments_lexer": "ipython3",
   "version": "3.11.7"
  }
 },
 "nbformat": 4,
 "nbformat_minor": 5
}
