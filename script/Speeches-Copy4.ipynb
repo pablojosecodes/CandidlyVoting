{
 "cells": [
  {
   "cell_type": "code",
   "execution_count": 2,
   "id": "193b4b98",
   "metadata": {},
   "outputs": [
    {
     "data": {
      "text/plain": [
       "['scott_psych.json',\n",
       " 'yvette_election.m4a',\n",
       " '.DS_Store',\n",
       " 'Speeches-Copy3.ipynb',\n",
       " 'Speeches-Copy1.ipynb',\n",
       " 'Tweets.ipynb',\n",
       " 'scott_interview.m4a',\n",
       " 'psych.m4a',\n",
       " 'Speeches-Copy4.ipynb',\n",
       " 'Speeches.ipynb',\n",
       " 'Yvette_Trans.json',\n",
       " 'Speeches-Copy2.ipynb',\n",
       " 'Yvette_election.json',\n",
       " '.ipynb_checkpoints',\n",
       " 'psych_scott.json',\n",
       " 'yvette_interview.json',\n",
       " 'testin.ipynb',\n",
       " 'scott_interview.json',\n",
       " 'scott.json',\n",
       " 'yvette_trans.m4a']"
      ]
     },
     "execution_count": 2,
     "metadata": {},
     "output_type": "execute_result"
    }
   ],
   "source": [
    "import yt_dlp\n",
    "import json\n",
    "import os\n",
    "from random import random\n",
    "os.listdir(\".\")"
   ]
  },
  {
   "cell_type": "markdown",
   "id": "00e75cb5",
   "metadata": {},
   "source": [
    "# Utils"
   ]
  },
  {
   "cell_type": "code",
   "execution_count": 3,
   "id": "313b45e8",
   "metadata": {},
   "outputs": [],
   "source": [
    "# OpenAI Embeddings\n",
    "from openai import OpenAI\n",
    "op = OpenAI(api_key=os.environ['OPENAI'])\n",
    "\n",
    "def emb(text):\n",
    "    response = op.embeddings.create(\n",
    "        input=text,\n",
    "        model=\"text-embedding-3-large\"\n",
    "    )\n",
    "\n",
    "    return response.data[0].embedding\n"
   ]
  },
  {
   "cell_type": "code",
   "execution_count": 17,
   "id": "aa9ce058",
   "metadata": {},
   "outputs": [],
   "source": [
    "# YT DLP\n",
    "ydl_opts = {\n",
    "    'format': 'm4a/bestaudio/best',\n",
    "    # ℹ️ See help(yt_dlp.postprocessor) for a list of available Postprocessors and their arguments\n",
    "    'postprocessors': [{  # Extract audio using ffmpeg\n",
    "        'key': 'FFmpegExtractAudio',\n",
    "        'preferredcodec': 'm4a',\n",
    "    }]\n",
    "}\n"
   ]
  },
  {
   "cell_type": "code",
   "execution_count": 4,
   "id": "d24b4ad8",
   "metadata": {},
   "outputs": [],
   "source": [
    "# Whisper\n",
    "import whisper\n",
    "model = whisper.load_model(\"base\")"
   ]
  },
  {
   "cell_type": "code",
   "execution_count": 5,
   "id": "326f7aa0",
   "metadata": {},
   "outputs": [
    {
     "data": {
      "text/plain": [
       "['scott_psych.json',\n",
       " 'yvette_election.m4a',\n",
       " '.DS_Store',\n",
       " 'Speeches-Copy3.ipynb',\n",
       " 'Speeches-Copy1.ipynb',\n",
       " 'Tweets.ipynb',\n",
       " 'scott_interview.m4a',\n",
       " 'psych.m4a',\n",
       " 'Speeches-Copy4.ipynb',\n",
       " 'Speeches.ipynb',\n",
       " 'Yvette_Trans.json',\n",
       " 'Speeches-Copy2.ipynb',\n",
       " 'Yvette_election.json',\n",
       " '.ipynb_checkpoints',\n",
       " 'psych_scott.json',\n",
       " 'yvette_interview.json',\n",
       " 'testin.ipynb',\n",
       " 'scott_interview.json',\n",
       " 'scott.json',\n",
       " 'yvette_trans.m4a']"
      ]
     },
     "execution_count": 5,
     "metadata": {},
     "output_type": "execute_result"
    }
   ],
   "source": [
    "os.listdir(\".\")"
   ]
  },
  {
   "cell_type": "markdown",
   "id": "af170185",
   "metadata": {},
   "source": [
    "# Get Videos and Transcribe"
   ]
  },
  {
   "cell_type": "code",
   "execution_count": 91,
   "id": "31cda1bc",
   "metadata": {},
   "outputs": [
    {
     "name": "stdout",
     "output_type": "stream",
     "text": [
      "[youtube] Extracting URL: https://www.youtube.com/watch?v=xLveM3T_YRM\n",
      "[youtube] xLveM3T_YRM: Downloading webpage\n",
      "[youtube] xLveM3T_YRM: Downloading ios player API JSON\n",
      "[youtube] xLveM3T_YRM: Downloading android player API JSON\n"
     ]
    },
    {
     "name": "stderr",
     "output_type": "stream",
     "text": [
      "WARNING: [youtube] YouTube said: ERROR - Precondition check failed.\n",
      "WARNING: [youtube] HTTP Error 400: Bad Request. Retrying (1/3)...\n"
     ]
    },
    {
     "name": "stdout",
     "output_type": "stream",
     "text": [
      "[youtube] xLveM3T_YRM: Downloading android player API JSON\n"
     ]
    },
    {
     "name": "stderr",
     "output_type": "stream",
     "text": [
      "WARNING: [youtube] YouTube said: ERROR - Precondition check failed.\n",
      "WARNING: [youtube] HTTP Error 400: Bad Request. Retrying (2/3)...\n"
     ]
    },
    {
     "name": "stdout",
     "output_type": "stream",
     "text": [
      "[youtube] xLveM3T_YRM: Downloading android player API JSON\n"
     ]
    },
    {
     "name": "stderr",
     "output_type": "stream",
     "text": [
      "WARNING: [youtube] YouTube said: ERROR - Precondition check failed.\n",
      "WARNING: [youtube] HTTP Error 400: Bad Request. Retrying (3/3)...\n"
     ]
    },
    {
     "name": "stdout",
     "output_type": "stream",
     "text": [
      "[youtube] xLveM3T_YRM: Downloading android player API JSON\n"
     ]
    },
    {
     "name": "stderr",
     "output_type": "stream",
     "text": [
      "WARNING: [youtube] YouTube said: ERROR - Precondition check failed.\n",
      "WARNING: [youtube] Unable to download API page: HTTP Error 400: Bad Request (caused by <HTTPError 400: Bad Request>); please report this issue on  https://github.com/yt-dlp/yt-dlp/issues?q= , filling out the appropriate issue template. Confirm you are on the latest version using  yt-dlp -U\n"
     ]
    },
    {
     "name": "stdout",
     "output_type": "stream",
     "text": [
      "[youtube] xLveM3T_YRM: Downloading m3u8 information\n",
      "[info] xLveM3T_YRM: Downloading 1 format(s): 140\n",
      "[download] Destination: Legalizing Psychedelics in San Francisco ｜ Interview with Sen. Scott Wiener ｜ DoubleBlind [xLveM3T_YRM].m4a\n",
      "[download] 100% of   26.46MiB in 00:00:03 at 7.14MiB/s     \n",
      "[FixupM4a] Correcting container of \"Legalizing Psychedelics in San Francisco ｜ Interview with Sen. Scott Wiener ｜ DoubleBlind [xLveM3T_YRM].m4a\"\n",
      "[ExtractAudio] Not converting audio Legalizing Psychedelics in San Francisco ｜ Interview with Sen. Scott Wiener ｜ DoubleBlind [xLveM3T_YRM].m4a; file is already in target format m4a\n"
     ]
    }
   ],
   "source": [
    "videos = [\n",
    "#     \"https://www.youtube.com/watch?v=dbKyKpJHHaw\",\n",
    "# \"https://www.youtube.com/watch?v=Ed6PLI06xtI\",\n",
    "# \"https://www.youtube.com/watch?v=8c4G6VRyVsk\",\n",
    "\"https://www.youtube.com/watch?v=xLveM3T_YRM\"\n",
    "         ]\n",
    "\n",
    "with yt_dlp.YoutubeDL(ydl_opts) as ydl:\n",
    "    error_code = ydl.download(videos)\n"
   ]
  },
  {
   "cell_type": "code",
   "execution_count": 6,
   "id": "3fb5b323",
   "metadata": {},
   "outputs": [
    {
     "name": "stderr",
     "output_type": "stream",
     "text": [
      "/opt/homebrew/lib/python3.11/site-packages/whisper/transcribe.py:115: UserWarning: FP16 is not supported on CPU; using FP32 instead\n",
      "  warnings.warn(\"FP16 is not supported on CPU; using FP32 instead\")\n"
     ]
    },
    {
     "name": "stdout",
     "output_type": "stream",
     "text": [
      "Detected language: English\n"
     ]
    },
    {
     "name": "stderr",
     "output_type": "stream",
     "text": [
      " 99%|████████████████████████████████▋| 157214/158826 [17:31<00:10, 149.55frames/s]\n"
     ]
    }
   ],
   "source": [
    "transcript = model.transcribe(\n",
    "    word_timestamps=True,\n",
    "    audio=\"yvette_election.m4a\",\n",
    "    verbose=False\n",
    ")"
   ]
  },
  {
   "cell_type": "markdown",
   "id": "7631edd7",
   "metadata": {},
   "source": [
    "# Compress"
   ]
  },
  {
   "cell_type": "code",
   "execution_count": null,
   "id": "d6085c0d",
   "metadata": {},
   "outputs": [],
   "source": [
    "import os\n",
    "os.listdir(\".\")"
   ]
  },
  {
   "cell_type": "code",
   "execution_count": 7,
   "id": "c8783a8e",
   "metadata": {},
   "outputs": [],
   "source": [
    "name = \"Yvette\"\n",
    "description = \"an interview about the election\"\n",
    "intial_details = {\n",
    "    \"id\": \"https://www.youtube.com/watch?v=dbKyKpJHHaw\",\n",
    "    \"author\": name,\n",
    "    \"date\": \"Oct 31, 2022\"\n",
    "}"
   ]
  },
  {
   "cell_type": "code",
   "execution_count": 8,
   "id": "ff30381d",
   "metadata": {},
   "outputs": [],
   "source": [
    "from tqdm import tqdm\n",
    "import copy\n",
    "\n",
    "# progress = \n",
    "def process_timestamps(transcript):\n",
    "    time_chunks = []\n",
    "    index = 0\n",
    "\n",
    "    \n",
    "    \n",
    "    while index<len(transcript['segments']):\n",
    "        section = copy.deepcopy(intial_details)\n",
    "        text = transcript['segments'][index]['text']\n",
    "        for i in range(4):\n",
    "            try:\n",
    "                text = text + transcript['segments'][index]['text']\n",
    "                index+=1\n",
    "            except:\n",
    "                print('reached end')\n",
    "        section['text'] = f\"{name} said \\\"\\\"\\\"{text.strip()}\\\"\\\"\\\" in {description}\"\n",
    "        section['timestamp'] = transcript['segments'][index-1]['start']\n",
    "        section['embedding'] = emb(section['text'])\n",
    "        index+=1\n",
    "        time_chunks.append(section)\n",
    "    return time_chunks\n",
    "\n",
    "chunks = process_timestamps(transcript)\n",
    "\n"
   ]
  },
  {
   "cell_type": "code",
   "execution_count": 10,
   "id": "e61fbb16",
   "metadata": {},
   "outputs": [],
   "source": [
    "file_save = open(\"yvette_election.json\", 'w')\n",
    "json.dump(chunks, file_save)"
   ]
  },
  {
   "cell_type": "code",
   "execution_count": null,
   "id": "321f0fdf",
   "metadata": {},
   "outputs": [],
   "source": []
  }
 ],
 "metadata": {
  "kernelspec": {
   "display_name": "Python 3 (ipykernel)",
   "language": "python",
   "name": "python3"
  },
  "language_info": {
   "codemirror_mode": {
    "name": "ipython",
    "version": 3
   },
   "file_extension": ".py",
   "mimetype": "text/x-python",
   "name": "python",
   "nbconvert_exporter": "python",
   "pygments_lexer": "ipython3",
   "version": "3.11.7"
  }
 },
 "nbformat": 4,
 "nbformat_minor": 5
}
